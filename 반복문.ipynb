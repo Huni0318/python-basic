{
 "cells": [
  {
   "cell_type": "markdown",
   "metadata": {},
   "source": [
    "### loop (반복문)\n",
    " + 반복적인 작업을 가능하게 해주는 도구\n",
    " + 특정 조건을 만족하는 경우 수행할 수 있음 (while)\n",
    " + 리스트, 문자열, 튜플 등 컬렉션 타입의 아이템을 하나씩 순회하면서 사용 가능 (for)\n",
    " + 코드 작업에서, 가장 많이 사용하는 구문 중 하나\n",
    " + 주의할점: while을 사용할 경우, 반복을 멈추게 하는 장치가 필요\n",
    "   + 그렇지 않으면 셀이 무한히 수행되며, jupyter notebook의 재부팅이 필요"
   ]
  },
  {
   "cell_type": "markdown",
   "metadata": {},
   "source": [
    "#### while 키워드\n",
    "  - while 뒤의 조건이 True일 경우, while 코드 블록을 계속 수행\n",
    "  - while 코드 블록\n",
    "    - if와 마찬가지로 while문 아래의 들여쓰기로 작성 된 부분을 의미\n",
    "  - 조건이 False가 되면 블록 수행을 멈추고 이후 코드를 실행"
   ]
  },
  {
   "cell_type": "markdown",
   "metadata": {},
   "source": [
    "#### 무한루프\n",
    " - while의 경우 종료가 되지 않도록 코드를 작성하면 블록에서 빠져나올 수 없음"
   ]
  },
  {
   "cell_type": "markdown",
   "metadata": {},
   "source": [
    "#### while 키워드 이용하여 리스트의 아이템 출력하기"
   ]
  },
  {
   "cell_type": "code",
   "execution_count": 4,
   "metadata": {},
   "outputs": [
    {
     "name": "stdout",
     "output_type": "stream",
     "text": [
      "1 0\n",
      "10 1\n",
      "9 2\n",
      "24 3\n",
      "52 4\n",
      "15 5\n",
      "27 6\n"
     ]
    }
   ],
   "source": [
    "a = [1,10,9,24,52,15,27]\n",
    "i = 0 #인덱스\n",
    "\n",
    "while i <len(a):\n",
    "    print(a[i],i)\n",
    "    i += 1"
   ]
  },
  {
   "cell_type": "code",
   "execution_count": 2,
   "metadata": {},
   "outputs": [
    {
     "data": {
      "text/plain": [
       "7"
      ]
     },
     "execution_count": 2,
     "metadata": {},
     "output_type": "execute_result"
    }
   ],
   "source": [
    "len(a)"
   ]
  },
  {
   "cell_type": "markdown",
   "metadata": {},
   "source": [
    "#### while 키워드 이용하여 리스트의 아이템 출력하기\n",
    " - 조건문과 함께 사용하기"
   ]
  },
  {
   "cell_type": "code",
   "execution_count": 7,
   "metadata": {},
   "outputs": [
    {
     "name": "stdout",
     "output_type": "stream",
     "text": [
      "0.5\n",
      "5.0\n",
      "4.5\n",
      "24 3\n",
      "52 4\n",
      "7.5\n",
      "27 6\n"
     ]
    }
   ],
   "source": [
    "a = [1,10,9,24,52,15,27]\n",
    "i = 0 #인덱스\n",
    "\n",
    "while i <len(a):\n",
    "    if a[i] >20:\n",
    "        print(a[i],i)\n",
    "    else:\n",
    "        print(a[i]/2)\n",
    "    i += 1"
   ]
  },
  {
   "cell_type": "markdown",
   "metadata": {},
   "source": [
    "#### break \n",
    " + loop를 중단할 때 사용\n",
    " + 보통 조건문 안에서 수행되며, 조건을 만족하는 경우 loop를 탈출하기 위해 사용\n",
    " + loop를 중단 하는 경우, while 이후의 코드를 수행"
   ]
  },
  {
   "cell_type": "code",
   "execution_count": 8,
   "metadata": {},
   "outputs": [
    {
     "name": "stdout",
     "output_type": "stream",
     "text": [
      "1 0\n",
      "10 1\n",
      "9 2\n",
      "24 3\n"
     ]
    }
   ],
   "source": [
    "a = [1,10,9,24,52,15,27]\n",
    "i = 0 #인덱스\n",
    "\n",
    "while i <len(a):\n",
    "    print(a[i],i)\n",
    "    if a[i] >20:\n",
    "        break\n",
    "    i += 1"
   ]
  },
  {
   "cell_type": "markdown",
   "metadata": {},
   "source": [
    "#### continue\n",
    " + break 처럼 반복을 중단하진 하여 빠져나오지 않고, 다시 while조건으로 점프함\n",
    " + 특정한 경우에는 코드를 수행하지 않고 다음으로 건너 뛰기 위해 사용"
   ]
  },
  {
   "cell_type": "code",
   "execution_count": 11,
   "metadata": {},
   "outputs": [
    {
     "name": "stdout",
     "output_type": "stream",
     "text": [
      "6\n",
      "4\n",
      "3\n",
      "2\n",
      "1\n",
      "0\n"
     ]
    }
   ],
   "source": [
    "a=7\n",
    "while a >0:\n",
    "    a-=1\n",
    "    if a==5:\n",
    "        continue\n",
    "    print(a)"
   ]
  },
  {
   "cell_type": "markdown",
   "metadata": {},
   "source": [
    "### for 반복문 \n",
    " - 리스트, 문자열 등등 순회 가능한 객체를 순회하면서 값을 처리할 때 사용\n",
    " - 아래와 같은 문법으로 사용\n",
    " - 여기서 i는 매번 수행 될 때마다, a의 아이템으로 순차적으로 변경 됨\n",
    " - 모든 아이템이 순회되면 for 블록 종료\n",
    " \n",
    "```python\n",
    "a = [1, 2, 4, 3, 5]\n",
    "for i in a:\n",
    "    print (i, i * 2)\n",
    "```"
   ]
  },
  {
   "cell_type": "code",
   "execution_count": 12,
   "metadata": {},
   "outputs": [
    {
     "name": "stdout",
     "output_type": "stream",
     "text": [
      "1 2\n",
      "2 4\n",
      "4 8\n",
      "3 6\n",
      "5 10\n"
     ]
    }
   ],
   "source": [
    "a = [1, 2, 4, 3, 5]\n",
    "for i in a:\n",
    "    print (i, i * 2)"
   ]
  },
  {
   "cell_type": "markdown",
   "metadata": {},
   "source": [
    "#### 문자열의 아이템 출력하기\n",
    " - 문자열의 경우 순회 가능, 리스트의 유사하게 순회 가능"
   ]
  },
  {
   "cell_type": "code",
   "execution_count": 13,
   "metadata": {},
   "outputs": [
    {
     "name": "stdout",
     "output_type": "stream",
     "text": [
      "h\n",
      "e\n",
      "l\n",
      "l\n",
      "o\n",
      " \n",
      "w\n",
      "o\n",
      "r\n",
      "l\n",
      "d\n"
     ]
    }
   ],
   "source": [
    "a='hello world'\n",
    "for i in a:\n",
    "    print(i)"
   ]
  },
  {
   "cell_type": "markdown",
   "metadata": {},
   "source": [
    "#### dict의 아이템 출력하기\n",
    "  - dictionary의 경우 기본적으로 순회 하게 되면 key값을 참조\n",
    "  - keys()함수를 이용하여 key 값만 순회 가능\n",
    "  - values()함수를 이용하여 value 값만 순회 가능\n",
    "  - items()함수를 이용하여 tuple형태로 key, value 순회 가능"
   ]
  },
  {
   "cell_type": "code",
   "execution_count": 16,
   "metadata": {},
   "outputs": [
    {
     "name": "stdout",
     "output_type": "stream",
     "text": [
      "korea seoul\n",
      "japan tokyo\n",
      "canada Ottawa\n"
     ]
    }
   ],
   "source": [
    "a={'korea':'seoul','japan':'tokyo','canada':'Ottawa'}\n",
    "for k in a:\n",
    "    print(k,a[k])"
   ]
  },
  {
   "cell_type": "markdown",
   "metadata": {},
   "source": [
    "#### for에서 index 사용하기\n",
    "  - 기본적으로 for에 리스트를 순회하는 경우, 값만 추출 함\n",
    "  - 아래와 같은 코드로 인덱스와 값 모두 사용 가능(enumerate 함수 이용)\n",
    "\n",
    "```python\n",
    "a = [1, 2, 4, 3, 5]\n",
    "for i, val in enumerate(a):\n",
    "    print i, val\n",
    "```"
   ]
  },
  {
   "cell_type": "code",
   "execution_count": 17,
   "metadata": {},
   "outputs": [
    {
     "name": "stdout",
     "output_type": "stream",
     "text": [
      "0 1\n",
      "1 2\n",
      "2 4\n",
      "3 3\n",
      "4 5\n"
     ]
    }
   ],
   "source": [
    "a = [1, 2, 4, 3, 5]\n",
    "for i, val in enumerate(a):\n",
    "    print (i, val)"
   ]
  },
  {
   "cell_type": "markdown",
   "metadata": {},
   "source": [
    "####  break\n",
    "  - for의 경우에도 특정 조건일 때, loop 종료가 가능"
   ]
  },
  {
   "cell_type": "code",
   "execution_count": 18,
   "metadata": {},
   "outputs": [
    {
     "name": "stdout",
     "output_type": "stream",
     "text": [
      "100\n",
      "90\n",
      "80\n"
     ]
    }
   ],
   "source": [
    "a=[100,90,80,70,60]\n",
    "for num in a:\n",
    "    if num <80:\n",
    "        break\n",
    "    print(num)"
   ]
  },
  {
   "cell_type": "markdown",
   "metadata": {},
   "source": [
    "#### continue\n",
    " - 해당 아이템을 건너 뛰고 싶을 때 사용"
   ]
  },
  {
   "cell_type": "code",
   "execution_count": 20,
   "metadata": {},
   "outputs": [
    {
     "name": "stdout",
     "output_type": "stream",
     "text": [
      "100\n",
      "90\n"
     ]
    }
   ],
   "source": [
    "a=[100,90,80,70,60]\n",
    "for num in a:\n",
    "    if num <= 80:\n",
    "        continue\n",
    "    print(num)"
   ]
  },
  {
   "cell_type": "markdown",
   "metadata": {},
   "source": [
    "#### loop 중첩\n",
    "  - 반복문의 경우에도 중첩하여 사용 가능\n",
    "  - 중첩이라는 것은 반복문 블록의 코드안에 또 반복문의 코드가 작성되는 것을 의미\n",
    "  - 이런 경우, 내부 루프는 외부 루프가 수행되는 만큼 반복 수행 됨\n",
    "  - 또한 중첩의 경우 무한히 가능\n",
    "\n",
    "```python\n",
    "a = [1, 2, 4]\n",
    "for i in a:\n",
    "    for j in a:\n",
    "        print i * j\n",
    "```"
   ]
  },
  {
   "cell_type": "code",
   "execution_count": 21,
   "metadata": {},
   "outputs": [
    {
     "name": "stdout",
     "output_type": "stream",
     "text": [
      "1\n",
      "2\n",
      "4\n",
      "2\n",
      "4\n",
      "8\n",
      "4\n",
      "8\n",
      "16\n"
     ]
    }
   ],
   "source": [
    "a = [1, 2, 4]\n",
    "for i in a:\n",
    "    for j in a:\n",
    "        print (i * j)"
   ]
  },
  {
   "cell_type": "markdown",
   "metadata": {},
   "source": [
    "#### collection의 길이\n",
    " - len() 내장함수로 계산 가능\n",
    " - 내장함수란 파이썬 내부에 구현되어 있어서, import하지 않고도 사용 가능한 함수를 의미\n",
    " - abs, len, type, range 등이 있음"
   ]
  },
  {
   "cell_type": "markdown",
   "metadata": {},
   "source": [
    "#### range 함수\n",
    "  - 리스트를 쉽게 만들 수 있는 내장함수\n",
    "  - 주어진 값에 따라 다양한 결과를 반환\n",
    " \n",
    "```python\n",
    "range(10)       -> [0, 1, 2, 3, 4, 5, 6, 7, 8, 9]\n",
    "range(2, 10)    -> [2, 3, 4, 5, 6, 7, 8, 9] \n",
    "range(2, 10, 3) -> [2, 5, 8] \n",
    "```"
   ]
  },
  {
   "cell_type": "code",
   "execution_count": null,
   "metadata": {},
   "outputs": [],
   "source": []
  },
  {
   "cell_type": "code",
   "execution_count": null,
   "metadata": {},
   "outputs": [],
   "source": []
  },
  {
   "cell_type": "code",
   "execution_count": null,
   "metadata": {},
   "outputs": [],
   "source": []
  },
  {
   "cell_type": "code",
   "execution_count": null,
   "metadata": {},
   "outputs": [],
   "source": []
  },
  {
   "cell_type": "code",
   "execution_count": null,
   "metadata": {},
   "outputs": [],
   "source": []
  },
  {
   "cell_type": "code",
   "execution_count": null,
   "metadata": {},
   "outputs": [],
   "source": []
  }
 ],
 "metadata": {
  "kernelspec": {
   "display_name": "Python 3",
   "language": "python",
   "name": "python3"
  },
  "language_info": {
   "codemirror_mode": {
    "name": "ipython",
    "version": 3
   },
   "file_extension": ".py",
   "mimetype": "text/x-python",
   "name": "python",
   "nbconvert_exporter": "python",
   "pygments_lexer": "ipython3",
   "version": "3.8.3"
  }
 },
 "nbformat": 4,
 "nbformat_minor": 4
}
